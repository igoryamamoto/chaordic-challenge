{
 "cells": [
  {
   "cell_type": "code",
   "execution_count": 1,
   "metadata": {
    "collapsed": true
   },
   "outputs": [],
   "source": [
    "import pandas as pd\n",
    "import numpy as np\n",
    "import json\n",
    "import gzip\n",
    "import seaborn as sns\n",
    "from datetime import datetime\n",
    "from pandas.io.json import json_normalize\n",
    "from sklearn.model_selection import train_test_split\n",
    "from sklearn.ensemble import RandomForestClassifier\n",
    "from sklearn import metrics\n",
    "%matplotlib inline"
   ]
  },
  {
   "cell_type": "code",
   "execution_count": 2,
   "metadata": {
    "collapsed": true
   },
   "outputs": [],
   "source": [
    "def open_json(data_file):    \n",
    "    with open(data_file, 'r') as f:\n",
    "        json_records = []\n",
    "        for line in f:\n",
    "            record = json.loads(line)\n",
    "            json_records.append(record)\n",
    "    return json_records\n",
    "\n",
    "def gender_to_bin(g):\n",
    "    if g == 'M':\n",
    "        return 1\n",
    "    else:\n",
    "        return 0\n",
    "\n",
    "def bin_to_gender(g):\n",
    "    if g == 1:\n",
    "        return 'M'\n",
    "    else:\n",
    "        return 'F'\n",
    "\n",
    "def to_weekday(timestamp):\n",
    "    try:\n",
    "        weekday = datetime.strptime(timestamp, \"%Y-%m-%d %H:%M:%S\").weekday()\n",
    "    except ValueError:\n",
    "        weekday = datetime.strptime(timestamp, \"%Y-%m-%d\").weekday()\n",
    "    except TypeError:\n",
    "        weekday = 1\n",
    "    return weekday"
   ]
  },
  {
   "cell_type": "markdown",
   "metadata": {},
   "source": [
    "## Create 5 DataFrames: catalog, purchase, pageview, target_purchase, target_pageview"
   ]
  },
  {
   "cell_type": "code",
   "execution_count": 7,
   "metadata": {},
   "outputs": [
    {
     "name": "stdout",
     "output_type": "stream",
     "text": [
      "CPU times: user 9.41 s, sys: 100 ms, total: 9.51 s\n",
      "Wall time: 9.51 s\n"
     ]
    }
   ],
   "source": [
    "%%time\n",
    "catalog = pd.read_csv('data/catalog.gz', usecols=['pid', 'current_price', 'category', 'sub_category', 'sub_sub_category'])\n",
    "for i,val in enumerate(catalog.current_price.values):\n",
    "    if np.isnan(val):\n",
    "        catalog.current_price.values[i] = 0\n",
    "\n",
    "purchase_data = open_json('data/purchase_data')           \n",
    "purchase = json_normalize(purchase_data, 'products', ['date','gender','uid'])\n",
    "\n",
    "pageview_data = open_json('data/products_data')   \n",
    "pageview = pd.DataFrame(pageview_data, columns=['productId', 'timestamp', 'gender', 'uid'])\n",
    "pageview.columns = ['pid', 'date', 'gender', 'uid']\n",
    "\n",
    "\n",
    "purchase_data = open_json('data/purchase_new_target')           \n",
    "target_purchase = json_normalize(purchase_data, 'products', ['date','uid'])\n",
    "\n",
    "pageview_data = open_json('data/products_new_target')   \n",
    "target_pageview = pd.DataFrame(pageview_data, columns=['productId', 'timestamp', 'uid'])\n",
    "target_pageview.columns = ['pid', 'date', 'uid']"
   ]
  },
  {
   "cell_type": "markdown",
   "metadata": {},
   "source": [
    "## Transform gender and date into numbers"
   ]
  },
  {
   "cell_type": "code",
   "execution_count": 8,
   "metadata": {},
   "outputs": [
    {
     "name": "stdout",
     "output_type": "stream",
     "text": [
      "CPU times: user 23.6 s, sys: 16 ms, total: 23.6 s\n",
      "Wall time: 23.6 s\n"
     ]
    }
   ],
   "source": [
    "%%time\n",
    "purchase.gender = list(map(gender_to_bin, purchase.gender.values))\n",
    "purchase.date = list(map(to_weekday, purchase.date.values))\n",
    "\n",
    "pageview.gender = list(map(gender_to_bin, pageview.gender.values))\n",
    "pageview.date = list(map(to_weekday, pageview.date.values))\n",
    "\n",
    "\n",
    "target_purchase.date = list(map(to_weekday, target_purchase.date.values))\n",
    "target_pageview.date = list(map(to_weekday, target_pageview.date.values))"
   ]
  },
  {
   "cell_type": "markdown",
   "metadata": {},
   "source": [
    "## Set dummies vars for categorical features"
   ]
  },
  {
   "cell_type": "code",
   "execution_count": 9,
   "metadata": {},
   "outputs": [
    {
     "name": "stdout",
     "output_type": "stream",
     "text": [
      "CPU times: user 1.33 s, sys: 16 ms, total: 1.35 s\n",
      "Wall time: 1.34 s\n"
     ]
    }
   ],
   "source": [
    "%%time\n",
    "categorical = ['category', 'sub_category', 'sub_sub_category', 'date']\n",
    "\n",
    "purchase = purchase.join(catalog.set_index('pid'), on='pid')\n",
    "purchase = pd.get_dummies(purchase, columns=categorical).iloc[:,1:]\n",
    "\n",
    "pageview = pageview.join(catalog.set_index('pid'), on='pid')\n",
    "pageview = pd.get_dummies(pageview, columns=categorical).iloc[:,1:]\n",
    "\n",
    "target_purchase = target_purchase.join(catalog.set_index('pid'), on='pid')\n",
    "target_purchase = pd.get_dummies(target_purchase, columns=categorical).iloc[:,1:]\n",
    "\n",
    "target_pageview = target_pageview.join(catalog.set_index('pid'), on='pid')\n",
    "target_pageview = pd.get_dummies(target_pageview, columns=categorical).iloc[:,1:]"
   ]
  },
  {
   "cell_type": "markdown",
   "metadata": {},
   "source": [
    "## Merge users with same uid (sum entries) and join DFs"
   ]
  },
  {
   "cell_type": "code",
   "execution_count": 132,
   "metadata": {},
   "outputs": [
    {
     "data": {
      "text/plain": [
       "12687"
      ]
     },
     "execution_count": 132,
     "metadata": {},
     "output_type": "execute_result"
    }
   ],
   "source": [
    "len(target_purchase.uid.values)"
   ]
  },
  {
   "cell_type": "code",
   "execution_count": 10,
   "metadata": {},
   "outputs": [
    {
     "name": "stdout",
     "output_type": "stream",
     "text": [
      "CPU times: user 1.84 s, sys: 304 ms, total: 2.15 s\n",
      "Wall time: 2.15 s\n"
     ]
    }
   ],
   "source": [
    "%%time\n",
    "#quantity = purchase.pop('quantity')\n",
    "purchase = purchase.groupby(['uid','gender'], as_index=False).sum()\n",
    "pageview = pageview.groupby(['uid','gender'], as_index=False).sum()\n",
    "data = purchase.join(pageview.set_index(['uid','gender']), on=['uid','gender'], rsuffix='_v')\n",
    "\n",
    "\n",
    "target_purchase = target_purchase.groupby(['uid'], as_index=False).sum()\n",
    "target_pageview = target_pageview.groupby(['uid'], as_index=False).sum()\n",
    "target_data = target_purchase.join(target_pageview.set_index('uid'), on='uid', rsuffix='_v')"
   ]
  },
  {
   "cell_type": "code",
   "execution_count": 11,
   "metadata": {
    "collapsed": true
   },
   "outputs": [],
   "source": [
    "data = data.fillna(value=0)\n",
    "target_data = target_data.fillna(value=0)"
   ]
  },
  {
   "cell_type": "code",
   "execution_count": 14,
   "metadata": {
    "collapsed": true
   },
   "outputs": [],
   "source": [
    "features = data.columns[2:]\n",
    "target = data.columns[1]\n",
    "features2 = target_data.columns[1:]\n",
    "features = list(set(features)&set(features2))"
   ]
  },
  {
   "cell_type": "code",
   "execution_count": 15,
   "metadata": {
    "collapsed": true
   },
   "outputs": [],
   "source": [
    "X = data[features]\n",
    "Y = data[target]\n",
    "x_train, x_test, y_train, y_test = train_test_split(X, Y, test_size=0.4, random_state=42)"
   ]
  },
  {
   "cell_type": "code",
   "execution_count": 16,
   "metadata": {},
   "outputs": [
    {
     "name": "stdout",
     "output_type": "stream",
     "text": [
      "CPU times: user 2.86 s, sys: 32 ms, total: 2.89 s\n",
      "Wall time: 2.87 s\n"
     ]
    }
   ],
   "source": [
    "%%time\n",
    "forest = RandomForestClassifier(n_estimators=100)\n",
    "forest.fit(x_train, y_train)\n",
    "y_pred = forest.predict(x_test)\n",
    "score = metrics.accuracy_score(y_test, y_pred)"
   ]
  },
  {
   "cell_type": "code",
   "execution_count": 17,
   "metadata": {},
   "outputs": [
    {
     "data": {
      "text/plain": [
       "0.79057591623036649"
      ]
     },
     "execution_count": 17,
     "metadata": {},
     "output_type": "execute_result"
    }
   ],
   "source": [
    "score"
   ]
  },
  {
   "cell_type": "code",
   "execution_count": 18,
   "metadata": {
    "collapsed": true
   },
   "outputs": [],
   "source": [
    "X = target_data[features]\n",
    "answer = forest.predict(X)\n",
    "users = target_data.uid.values\n",
    "ans = []\n",
    "for i,u in enumerate(users):\n",
    "    if answer[i]:\n",
    "        g = 'M'\n",
    "    else:\n",
    "        g = 'F'\n",
    "    obj = {'a':u, 'b':g}\n",
    "    ans.append(obj)\n",
    "    \n",
    "import csv\n",
    "\n",
    "with open('ans7.csv', 'wb') as f:\n",
    "    w = csv.DictWriter(f, fieldnames=['a','b'])\n",
    "    for obj in ans:\n",
    "        w.writerow(obj)"
   ]
  },
  {
   "cell_type": "code",
   "execution_count": 19,
   "metadata": {
    "scrolled": true
   },
   "outputs": [
    {
     "data": {
      "text/html": [
       "<div>\n",
       "<style>\n",
       "    .dataframe thead tr:only-child th {\n",
       "        text-align: right;\n",
       "    }\n",
       "\n",
       "    .dataframe thead th {\n",
       "        text-align: left;\n",
       "    }\n",
       "\n",
       "    .dataframe tbody tr th {\n",
       "        vertical-align: top;\n",
       "    }\n",
       "</style>\n",
       "<table border=\"1\" class=\"dataframe\">\n",
       "  <thead>\n",
       "    <tr style=\"text-align: right;\">\n",
       "      <th></th>\n",
       "      <th>uid</th>\n",
       "      <th>gender</th>\n",
       "      <th>quantity</th>\n",
       "      <th>current_price</th>\n",
       "      <th>category_11e623a37e87cf7995c466723ec99688d55cae8c</th>\n",
       "      <th>category_37b2661cc181c987f68770e43990152026920ba5</th>\n",
       "      <th>category_55599ee4735544f9319a030222f617a252d8ebf3</th>\n",
       "      <th>category_57ecb679698676e7a3ac843bef1e3f6844651a79</th>\n",
       "      <th>category_c1bd5fd999bd577743936898ada96496b547af3c</th>\n",
       "      <th>category_c37df0ae71b97699a478def3001a3516a905a51d</th>\n",
       "      <th>...</th>\n",
       "      <th>sub_sub_category_f86a9cce8e46d9cac88fd9306a6515fef89fe3fc_v</th>\n",
       "      <th>sub_sub_category_f9e79addaa1175027c52d95685b4664fa7430f0f_v</th>\n",
       "      <th>sub_sub_category_fecdd01f32c4b0a1e0d2b70cc3891dc52f964329_v</th>\n",
       "      <th>date_0_v</th>\n",
       "      <th>date_1_v</th>\n",
       "      <th>date_2_v</th>\n",
       "      <th>date_3_v</th>\n",
       "      <th>date_4_v</th>\n",
       "      <th>date_5_v</th>\n",
       "      <th>date_6_v</th>\n",
       "    </tr>\n",
       "  </thead>\n",
       "  <tbody>\n",
       "    <tr>\n",
       "      <th>0</th>\n",
       "      <td>000130d3608d9f6cd7a951eb15bca73838a3a263</td>\n",
       "      <td>1</td>\n",
       "      <td>1.0</td>\n",
       "      <td>0.0</td>\n",
       "      <td>0</td>\n",
       "      <td>0</td>\n",
       "      <td>0</td>\n",
       "      <td>0</td>\n",
       "      <td>0</td>\n",
       "      <td>1</td>\n",
       "      <td>...</td>\n",
       "      <td>0.0</td>\n",
       "      <td>0.0</td>\n",
       "      <td>0.0</td>\n",
       "      <td>0.0</td>\n",
       "      <td>0.0</td>\n",
       "      <td>0.0</td>\n",
       "      <td>0.0</td>\n",
       "      <td>0.0</td>\n",
       "      <td>0.0</td>\n",
       "      <td>0.0</td>\n",
       "    </tr>\n",
       "    <tr>\n",
       "      <th>1</th>\n",
       "      <td>0002c71b578f597fc0e1e63f96fc3cf433ccbc15</td>\n",
       "      <td>0</td>\n",
       "      <td>1.0</td>\n",
       "      <td>99.9</td>\n",
       "      <td>0</td>\n",
       "      <td>0</td>\n",
       "      <td>0</td>\n",
       "      <td>0</td>\n",
       "      <td>0</td>\n",
       "      <td>0</td>\n",
       "      <td>...</td>\n",
       "      <td>0.0</td>\n",
       "      <td>0.0</td>\n",
       "      <td>0.0</td>\n",
       "      <td>0.0</td>\n",
       "      <td>0.0</td>\n",
       "      <td>0.0</td>\n",
       "      <td>0.0</td>\n",
       "      <td>0.0</td>\n",
       "      <td>0.0</td>\n",
       "      <td>0.0</td>\n",
       "    </tr>\n",
       "    <tr>\n",
       "      <th>2</th>\n",
       "      <td>0002c9b12a68dba967fd9d71068c349d495a15ba</td>\n",
       "      <td>0</td>\n",
       "      <td>4.0</td>\n",
       "      <td>1579.6</td>\n",
       "      <td>0</td>\n",
       "      <td>0</td>\n",
       "      <td>0</td>\n",
       "      <td>0</td>\n",
       "      <td>2</td>\n",
       "      <td>2</td>\n",
       "      <td>...</td>\n",
       "      <td>0.0</td>\n",
       "      <td>0.0</td>\n",
       "      <td>0.0</td>\n",
       "      <td>0.0</td>\n",
       "      <td>0.0</td>\n",
       "      <td>0.0</td>\n",
       "      <td>0.0</td>\n",
       "      <td>2.0</td>\n",
       "      <td>0.0</td>\n",
       "      <td>0.0</td>\n",
       "    </tr>\n",
       "    <tr>\n",
       "      <th>3</th>\n",
       "      <td>000aa8ec02476d85a2416b5f66ef46a64bf1e319</td>\n",
       "      <td>1</td>\n",
       "      <td>1.0</td>\n",
       "      <td>309.9</td>\n",
       "      <td>0</td>\n",
       "      <td>0</td>\n",
       "      <td>0</td>\n",
       "      <td>0</td>\n",
       "      <td>0</td>\n",
       "      <td>1</td>\n",
       "      <td>...</td>\n",
       "      <td>0.0</td>\n",
       "      <td>0.0</td>\n",
       "      <td>0.0</td>\n",
       "      <td>0.0</td>\n",
       "      <td>0.0</td>\n",
       "      <td>0.0</td>\n",
       "      <td>0.0</td>\n",
       "      <td>0.0</td>\n",
       "      <td>0.0</td>\n",
       "      <td>0.0</td>\n",
       "    </tr>\n",
       "    <tr>\n",
       "      <th>4</th>\n",
       "      <td>000c678b3a022ab93a8603025dcba4ee23b55b15</td>\n",
       "      <td>0</td>\n",
       "      <td>1.0</td>\n",
       "      <td>399.9</td>\n",
       "      <td>0</td>\n",
       "      <td>0</td>\n",
       "      <td>0</td>\n",
       "      <td>0</td>\n",
       "      <td>1</td>\n",
       "      <td>0</td>\n",
       "      <td>...</td>\n",
       "      <td>0.0</td>\n",
       "      <td>0.0</td>\n",
       "      <td>0.0</td>\n",
       "      <td>0.0</td>\n",
       "      <td>23.0</td>\n",
       "      <td>1.0</td>\n",
       "      <td>0.0</td>\n",
       "      <td>0.0</td>\n",
       "      <td>0.0</td>\n",
       "      <td>0.0</td>\n",
       "    </tr>\n",
       "  </tbody>\n",
       "</table>\n",
       "<p>5 rows × 225 columns</p>\n",
       "</div>"
      ],
      "text/plain": [
       "                                        uid  gender  quantity  current_price  \\\n",
       "0  000130d3608d9f6cd7a951eb15bca73838a3a263       1       1.0            0.0   \n",
       "1  0002c71b578f597fc0e1e63f96fc3cf433ccbc15       0       1.0           99.9   \n",
       "2  0002c9b12a68dba967fd9d71068c349d495a15ba       0       4.0         1579.6   \n",
       "3  000aa8ec02476d85a2416b5f66ef46a64bf1e319       1       1.0          309.9   \n",
       "4  000c678b3a022ab93a8603025dcba4ee23b55b15       0       1.0          399.9   \n",
       "\n",
       "   category_11e623a37e87cf7995c466723ec99688d55cae8c  \\\n",
       "0                                                  0   \n",
       "1                                                  0   \n",
       "2                                                  0   \n",
       "3                                                  0   \n",
       "4                                                  0   \n",
       "\n",
       "   category_37b2661cc181c987f68770e43990152026920ba5  \\\n",
       "0                                                  0   \n",
       "1                                                  0   \n",
       "2                                                  0   \n",
       "3                                                  0   \n",
       "4                                                  0   \n",
       "\n",
       "   category_55599ee4735544f9319a030222f617a252d8ebf3  \\\n",
       "0                                                  0   \n",
       "1                                                  0   \n",
       "2                                                  0   \n",
       "3                                                  0   \n",
       "4                                                  0   \n",
       "\n",
       "   category_57ecb679698676e7a3ac843bef1e3f6844651a79  \\\n",
       "0                                                  0   \n",
       "1                                                  0   \n",
       "2                                                  0   \n",
       "3                                                  0   \n",
       "4                                                  0   \n",
       "\n",
       "   category_c1bd5fd999bd577743936898ada96496b547af3c  \\\n",
       "0                                                  0   \n",
       "1                                                  0   \n",
       "2                                                  2   \n",
       "3                                                  0   \n",
       "4                                                  1   \n",
       "\n",
       "   category_c37df0ae71b97699a478def3001a3516a905a51d    ...     \\\n",
       "0                                                  1    ...      \n",
       "1                                                  0    ...      \n",
       "2                                                  2    ...      \n",
       "3                                                  1    ...      \n",
       "4                                                  0    ...      \n",
       "\n",
       "   sub_sub_category_f86a9cce8e46d9cac88fd9306a6515fef89fe3fc_v  \\\n",
       "0                                                0.0             \n",
       "1                                                0.0             \n",
       "2                                                0.0             \n",
       "3                                                0.0             \n",
       "4                                                0.0             \n",
       "\n",
       "   sub_sub_category_f9e79addaa1175027c52d95685b4664fa7430f0f_v  \\\n",
       "0                                                0.0             \n",
       "1                                                0.0             \n",
       "2                                                0.0             \n",
       "3                                                0.0             \n",
       "4                                                0.0             \n",
       "\n",
       "   sub_sub_category_fecdd01f32c4b0a1e0d2b70cc3891dc52f964329_v  date_0_v  \\\n",
       "0                                                0.0                 0.0   \n",
       "1                                                0.0                 0.0   \n",
       "2                                                0.0                 0.0   \n",
       "3                                                0.0                 0.0   \n",
       "4                                                0.0                 0.0   \n",
       "\n",
       "   date_1_v  date_2_v  date_3_v  date_4_v  date_5_v  date_6_v  \n",
       "0       0.0       0.0       0.0       0.0       0.0       0.0  \n",
       "1       0.0       0.0       0.0       0.0       0.0       0.0  \n",
       "2       0.0       0.0       0.0       2.0       0.0       0.0  \n",
       "3       0.0       0.0       0.0       0.0       0.0       0.0  \n",
       "4      23.0       1.0       0.0       0.0       0.0       0.0  \n",
       "\n",
       "[5 rows x 225 columns]"
      ]
     },
     "execution_count": 19,
     "metadata": {},
     "output_type": "execute_result"
    }
   ],
   "source": [
    "data.head()"
   ]
  },
  {
   "cell_type": "code",
   "execution_count": null,
   "metadata": {
    "collapsed": true
   },
   "outputs": [],
   "source": []
  }
 ],
 "metadata": {
  "kernelspec": {
   "display_name": "Python 2",
   "language": "python",
   "name": "python2"
  },
  "language_info": {
   "codemirror_mode": {
    "name": "ipython",
    "version": 2
   },
   "file_extension": ".py",
   "mimetype": "text/x-python",
   "name": "python",
   "nbconvert_exporter": "python",
   "pygments_lexer": "ipython2",
   "version": "2.7.12"
  }
 },
 "nbformat": 4,
 "nbformat_minor": 2
}

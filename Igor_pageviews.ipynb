{
 "cells": [
  {
   "cell_type": "code",
   "execution_count": 16,
   "metadata": {
    "collapsed": true
   },
   "outputs": [],
   "source": [
    "import pandas as pd\n",
    "import numpy as np\n",
    "import json\n",
    "import gzip\n",
    "import seaborn as sns\n",
    "from pandas.io.json import json_normalize\n",
    "from sklearn.model_selection import train_test_split\n",
    "from sklearn.ensemble import RandomForestClassifier\n",
    "from sklearn import metrics\n",
    "%matplotlib inline"
   ]
  },
  {
   "cell_type": "code",
   "execution_count": 8,
   "metadata": {
    "collapsed": true
   },
   "outputs": [],
   "source": [
    "catalog = pd.read_csv('data/catalog.gz')"
   ]
  },
  {
   "cell_type": "code",
   "execution_count": 9,
   "metadata": {},
   "outputs": [
    {
     "name": "stdout",
     "output_type": "stream",
     "text": [
      "CPU times: user 884 ms, sys: 4 ms, total: 888 ms\n",
      "Wall time: 885 ms\n"
     ]
    }
   ],
   "source": [
    "%%time\n",
    "with open('data/purchase_data', 'r') as f:\n",
    "    json_records = []\n",
    "    for line in f:\n",
    "        record = json.loads(line)\n",
    "        json_records.append(record)\n",
    "purchase = json_normalize(json_records, 'products', ['uid','date','gender'])\n",
    "purchase = purchase.join(catalog.set_index('pid'), on='pid')\n",
    "categorical = ['category', 'sub_category', 'sub_sub_category','gender']\n",
    "purchase = pd.get_dummies(purchase, columns=categorical)\n",
    "dummy_cols = ['category_c1bd5fd999bd577743936898ada96496b547af3c',\n",
    "'sub_category_f08770a96fb546673053ab799f5ea9cada06c06a',\n",
    "'sub_sub_category_2d2c44a2d8f18a6271f0e8057313af68a46d0f24',\n",
    "'gender_F']\n",
    "purchase = purchase.drop(dummy_cols, 1)\n",
    "features = purchase.columns[6:-1]\n",
    "target = purchase.columns[-1]"
   ]
  },
  {
   "cell_type": "code",
   "execution_count": 10,
   "metadata": {},
   "outputs": [
    {
     "name": "stdout",
     "output_type": "stream",
     "text": [
      "CPU times: user 248 ms, sys: 0 ns, total: 248 ms\n",
      "Wall time: 248 ms\n"
     ]
    }
   ],
   "source": [
    "%%time\n",
    "with open('data/purchase_target', 'r') as f:\n",
    "    json_records = []\n",
    "    for line in f:\n",
    "        record = json.loads(line)\n",
    "        json_records.append(record)\n",
    "purchase2 = json_normalize(json_records, 'products', ['uid','date'])\n",
    "purchase2 = purchase2.join(catalog.set_index('pid'), on='pid')\n",
    "categorical = ['category', 'sub_category', 'sub_sub_category']\n",
    "purchase2 = pd.get_dummies(purchase2, columns=categorical)\n",
    "dummy_cols = ['category_c1bd5fd999bd577743936898ada96496b547af3c',\n",
    "'sub_category_f08770a96fb546673053ab799f5ea9cada06c06a',\n",
    "'sub_sub_category_2d2c44a2d8f18a6271f0e8057313af68a46d0f24']\n",
    "purchase2 = purchase2.drop(dummy_cols, 1)\n",
    "features2 = purchase2.columns[6:]"
   ]
  },
  {
   "cell_type": "code",
   "execution_count": 11,
   "metadata": {
    "collapsed": true
   },
   "outputs": [],
   "source": [
    "new_features = list(set(features)&set(features2))\n",
    "X = purchase[new_features]\n",
    "Y = purchase[target]\n",
    "x_train, x_test, y_train, y_test = train_test_split(X, Y, test_size=0.4, random_state=42)"
   ]
  },
  {
   "cell_type": "code",
   "execution_count": 17,
   "metadata": {},
   "outputs": [
    {
     "name": "stdout",
     "output_type": "stream",
     "text": [
      "CPU times: user 3.35 s, sys: 28 ms, total: 3.38 s\n",
      "Wall time: 3.38 s\n"
     ]
    }
   ],
   "source": [
    "%%time\n",
    "forest = RandomForestClassifier(n_estimators=100)\n",
    "forest.fit(x_train, y_train)\n",
    "y_pred = forest.predict(x_test)\n",
    "score = metrics.accuracy_score(y_test, y_pred)"
   ]
  },
  {
   "cell_type": "code",
   "execution_count": 18,
   "metadata": {},
   "outputs": [
    {
     "data": {
      "text/plain": [
       "0.75345167652859957"
      ]
     },
     "execution_count": 18,
     "metadata": {},
     "output_type": "execute_result"
    }
   ],
   "source": [
    "score"
   ]
  },
  {
   "cell_type": "markdown",
   "metadata": {},
   "source": [
    "---\n",
    "\n",
    "Pageviews\n",
    "\n",
    "---"
   ]
  },
  {
   "cell_type": "code",
   "execution_count": 22,
   "metadata": {},
   "outputs": [
    {
     "name": "stdout",
     "output_type": "stream",
     "text": [
      "CPU times: user 7.96 s, sys: 320 ms, total: 8.28 s\n",
      "Wall time: 9.11 s\n"
     ]
    }
   ],
   "source": [
    "%%time\n",
    "with open('data/products_data', 'r') as f:\n",
    "    json_records = []\n",
    "    for line in f:\n",
    "        record = json.loads(line)\n",
    "        json_records.append(record)\n",
    "pageview = pd.DataFrame(json_records)"
   ]
  },
  {
   "cell_type": "code",
   "execution_count": 23,
   "metadata": {},
   "outputs": [
    {
     "name": "stdout",
     "output_type": "stream",
     "text": [
      "<class 'pandas.core.frame.DataFrame'>\n",
      "RangeIndex: 545617 entries, 0 to 545616\n",
      "Data columns (total 7 columns):\n",
      "event_type    545617 non-null object\n",
      "gender        545617 non-null object\n",
      "page_type     545617 non-null object\n",
      "productId     545617 non-null object\n",
      "source        368146 non-null object\n",
      "timestamp     545617 non-null object\n",
      "uid           545617 non-null object\n",
      "dtypes: object(7)\n",
      "memory usage: 29.1+ MB\n"
     ]
    }
   ],
   "source": [
    "pageview.info()"
   ]
  },
  {
   "cell_type": "code",
   "execution_count": null,
   "metadata": {
    "collapsed": true
   },
   "outputs": [],
   "source": []
  }
 ],
 "metadata": {
  "kernelspec": {
   "display_name": "Python 2",
   "language": "python",
   "name": "python2"
  },
  "language_info": {
   "codemirror_mode": {
    "name": "ipython",
    "version": 2
   },
   "file_extension": ".py",
   "mimetype": "text/x-python",
   "name": "python",
   "nbconvert_exporter": "python",
   "pygments_lexer": "ipython2",
   "version": "2.7.12"
  }
 },
 "nbformat": 4,
 "nbformat_minor": 2
}
